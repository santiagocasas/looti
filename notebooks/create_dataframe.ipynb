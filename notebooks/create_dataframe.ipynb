{
 "cells": [
  {
   "cell_type": "markdown",
   "metadata": {},
   "source": [
    "Load data from input4cast files to pandas data frames"
   ]
  },
  {
   "cell_type": "code",
   "execution_count": 1,
   "metadata": {},
   "outputs": [],
   "source": [
    "import sys"
   ]
  },
  {
   "cell_type": "code",
   "execution_count": 2,
   "metadata": {},
   "outputs": [],
   "source": [
    "sys.path.append('../looti/')"
   ]
  },
  {
   "cell_type": "code",
   "execution_count": 3,
   "metadata": {},
   "outputs": [],
   "source": [
    "from looti import read_files as rf"
   ]
  },
  {
   "cell_type": "code",
   "execution_count": 5,
   "metadata": {},
   "outputs": [],
   "source": [
    "FrameConstructor = rf.FileReader(path_config_file='../readfile_configs/read_input4cast.yaml')"
   ]
  },
  {
   "cell_type": "code",
   "execution_count": 6,
   "metadata": {},
   "outputs": [
    {
     "name": "stdout",
     "output_type": "stream",
     "text": [
      "Creating data frame for :  Plin\n",
      " Reference k-dataframe created \n",
      "Looping over 200 folders\n",
      "Maximum number of n_samples reached\n",
      "Time needed for Dataframe creation 7.6269\n",
      "Number of parameters varying: 7\n",
      "Parameters: ['w0_fld', 'wa_fld', 'Omega_m', 'Omega_b', 'h', 'n_s', 'A_s']\n",
      "Number of samples in dataset: 200\n",
      "Dataframe saved to: ../training_data/class_Asw0wa_DP_hypel_Plin.csv.zip\n",
      "Reference dataframe saved to: ../training_data/class_Asw0wa_DP_hypel_Plin_ref.csv.zip\n",
      "------------------------------------------\n",
      "Creating data frame for :  Pnonlin\n",
      " Reference k-dataframe created \n",
      "Looping over 200 folders\n",
      "Maximum number of n_samples reached\n",
      "Time needed for Dataframe creation 7.9620\n",
      "Number of parameters varying: 7\n",
      "Parameters: ['w0_fld', 'wa_fld', 'Omega_m', 'Omega_b', 'h', 'n_s', 'A_s']\n",
      "Number of samples in dataset: 200\n",
      "Dataframe saved to: ../training_data/class_Asw0wa_DP_hypel_Pnonlin.csv.zip\n",
      "Reference dataframe saved to: ../training_data/class_Asw0wa_DP_hypel_Pnonlin_ref.csv.zip\n",
      "------------------------------------------\n",
      "Creating data frame for :  f_GrowthRate\n",
      " Reference k-dataframe created \n",
      "Looping over 200 folders\n",
      "Maximum number of n_samples reached\n",
      "Time needed for Dataframe creation 8.2396\n",
      "Number of parameters varying: 7\n",
      "Parameters: ['w0_fld', 'wa_fld', 'Omega_m', 'Omega_b', 'h', 'n_s', 'A_s']\n",
      "Number of samples in dataset: 200\n",
      "Dataframe saved to: ../training_data/class_Asw0wa_DP_hypel_f_GrowthRate.csv.zip\n",
      "Reference dataframe saved to: ../training_data/class_Asw0wa_DP_hypel_f_GrowthRate_ref.csv.zip\n",
      "------------------------------------------\n",
      "Creating data frame for :  sigma8\n",
      " Reference z-dataframe created \n",
      "Looping over 200 folders\n",
      "Number of parameters varying: 7\n",
      "Parameters: ['w0_fld', 'wa_fld', 'Omega_m', 'Omega_b', 'h', 'n_s', 'A_s']\n",
      "Number of samples in dataset: 200\n",
      "Dataframe saved to: ../training_data/class_Asw0wa_DP_hypel_sigma8.csv.zip\n",
      "Reference dataframe saved to: ../training_data/class_Asw0wa_DP_hypel_sigma8_ref.csv.zip\n",
      "------------------------------------------\n",
      "Creating data frame for :  background_H\n",
      " Reference z-dataframe created \n",
      "Looping over 200 folders\n",
      "Number of parameters varying: 7\n",
      "Parameters: ['w0_fld', 'wa_fld', 'Omega_m', 'Omega_b', 'h', 'n_s', 'A_s']\n",
      "Number of samples in dataset: 200\n",
      "Dataframe saved to: ../training_data/class_Asw0wa_DP_hypel_background_H.csv.zip\n",
      "Reference dataframe saved to: ../training_data/class_Asw0wa_DP_hypel_background_H_ref.csv.zip\n",
      "------------------------------------------\n"
     ]
    }
   ],
   "source": [
    "FrameConstructor.create_dataframes()"
   ]
  },
  {
   "cell_type": "markdown",
   "metadata": {},
   "source": [
    "Create data frame containing only data at one specific redshift"
   ]
  }
 ],
 "metadata": {
  "kernelspec": {
   "display_name": "lootiemu",
   "language": "python",
   "name": "python3"
  },
  "language_info": {
   "codemirror_mode": {
    "name": "ipython",
    "version": 3
   },
   "file_extension": ".py",
   "mimetype": "text/x-python",
   "name": "python",
   "nbconvert_exporter": "python",
   "pygments_lexer": "ipython3",
   "version": "3.8.17"
  },
  "orig_nbformat": 4
 },
 "nbformat": 4,
 "nbformat_minor": 2
}
