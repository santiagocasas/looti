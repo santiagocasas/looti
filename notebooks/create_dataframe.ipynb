{
 "cells": [
  {
   "cell_type": "markdown",
   "metadata": {},
   "source": [
    "Load data from input4cast files to pandas data frames"
   ]
  },
  {
   "cell_type": "code",
   "execution_count": null,
   "metadata": {},
   "outputs": [],
   "source": [
    "import sys"
   ]
  },
  {
   "cell_type": "code",
   "execution_count": null,
   "metadata": {},
   "outputs": [],
   "source": [
    "sys.path.append('../looti/')"
   ]
  },
  {
   "cell_type": "code",
   "execution_count": null,
   "metadata": {},
   "outputs": [],
   "source": [
    "from looti import read_files as rf"
   ]
  },
  {
   "cell_type": "code",
   "execution_count": null,
   "metadata": {},
   "outputs": [],
   "source": [
    "FrameConstructor = rf.FileReader(path_config_file='../readfile_configs/read_input4cast.yaml')"
   ]
  },
  {
   "cell_type": "code",
   "execution_count": null,
   "metadata": {},
   "outputs": [],
   "source": [
    "FrameConstructor.create_dataframes()"
   ]
  },
  {
   "cell_type": "markdown",
   "metadata": {},
   "source": [
    "Create data frame containing only data at one specific redshift"
   ]
  },
  {
   "cell_type": "code",
   "execution_count": null,
   "metadata": {},
   "outputs": [],
   "source": [
    "save_path = '../training_data/MnuNur_5sigma_nosig8_z0/'"
   ]
  },
  {
   "cell_type": "code",
   "execution_count": null,
   "metadata": {},
   "outputs": [],
   "source": [
    "import pandas as pd\n",
    "import os"
   ]
  },
  {
   "cell_type": "code",
   "execution_count": null,
   "metadata": {},
   "outputs": [],
   "source": [
    "df = pd.read_csv('../training_data/w0wa_sig8/_Plin.csv.zip', index_col=list(range(16)))"
   ]
  },
  {
   "cell_type": "code",
   "execution_count": null,
   "metadata": {},
   "outputs": [],
   "source": [
    "def convert_to_p_string(number):\n",
    "\n",
    "    number_str = str(number)\n",
    "    p_string = number_str.replace('.', 'p')\n",
    "    \n",
    "    return p_string"
   ]
  },
  {
   "cell_type": "code",
   "execution_count": null,
   "metadata": {},
   "outputs": [],
   "source": [
    "def filter_redshift(data_types, load_path, save_path, redshifts=[0], n_params=None):\n",
    "\n",
    "    n_index = 2 + 2 * n_params\n",
    "\n",
    "    for data_type in data_types:\n",
    "\n",
    "        df_all = pd.read_csv(load_path+'_'+data_type+'.csv.zip', index_col=list(range(n_index)))\n",
    "        df_all_ref = pd.read_csv(load_path+'_'+data_type+'_ref'+'.csv.zip', index_col=list(range(2)))\n",
    "\n",
    "        for redshift in redshifts:\n",
    "\n",
    "            df_data = df_all[df_all.index.get_level_values('redshift')==redshift]\n",
    "            df_data_ref = df_all_ref[df_all_ref.index.get_level_values('redshift')==redshift]\n",
    "\n",
    "            df_grid = df_all[df_all.index.get_level_values('data_type')=='grid']\n",
    "            df_grid_ref = df_all_ref[df_all_ref.index.get_level_values('data_type')=='grid']\n",
    "\n",
    "            df_z0 = pd.concat([df_data, df_grid])\n",
    "            df_z0_ref = pd.concat([df_data_ref, df_grid_ref])\n",
    "\n",
    "            redshift_string = str(redshift).replace('.', 'p')\n",
    "            save_dir = save_path+redshift_string+'/'\n",
    "            if not os.path.exists(save_dir):\n",
    "                os.makedirs(save_dir)\n",
    "\n",
    "            df_z0.to_csv(save_dir+data_type+'.csv.zip')\n",
    "            df_z0_ref.to_csv(save_dir+data_type+'_ref'+'.csv.zip')\n",
    "\n",
    "            print('%s at redshift %f saved under %s' %(data_type, redshift, save_dir+data_type+'.csv.zip'))\n",
    "            print('Reference %s at redshift %f saved under %s' %(data_type, redshift, save_dir+data_type+'_ref'+'.csv.zip'))"
   ]
  },
  {
   "cell_type": "code",
   "execution_count": null,
   "metadata": {},
   "outputs": [],
   "source": [
    "# Euclid_GCsp_bins = [1.0, 1.2, 1.4, 1.65]\n",
    "data_types = ['Plin', 'Plincb', 'Pnonlin', 'Pnonlincb', 'background_H', 'sigma8', 'D_Growth', 'f_GrowthRate']\n",
    "load_path = '../training_data/MnuNurTau_5sigma_nosig8/'\n",
    "save_path = '../training_data/MnuNurTau_redshifts/'\n",
    "redshifts = [1.0, 1.2, 1.4, 1.65]\n",
    "n_param = 8"
   ]
  },
  {
   "cell_type": "code",
   "execution_count": null,
   "metadata": {},
   "outputs": [],
   "source": [
    "filter_redshift(data_types=data_types, load_path=load_path, save_path=save_path, redshifts=redshifts, n_params=n_param)"
   ]
  },
  {
   "cell_type": "code",
   "execution_count": null,
   "metadata": {},
   "outputs": [],
   "source": []
  }
 ],
 "metadata": {
  "kernelspec": {
   "display_name": "lootiemu",
   "language": "python",
   "name": "python3"
  },
  "language_info": {
   "codemirror_mode": {
    "name": "ipython",
    "version": 3
   },
   "file_extension": ".py",
   "mimetype": "text/x-python",
   "name": "python",
   "nbconvert_exporter": "python",
   "pygments_lexer": "ipython3",
   "version": "3.11.4"
  },
  "orig_nbformat": 4
 },
 "nbformat": 4,
 "nbformat_minor": 2
}
