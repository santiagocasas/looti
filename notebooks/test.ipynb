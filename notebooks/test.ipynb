{
 "cells": [
  {
   "cell_type": "code",
   "execution_count": 1,
   "metadata": {},
   "outputs": [],
   "source": [
    "from looti import cosmo_emulator as cem\n",
    "import pickle\n",
    "import numpy as np"
   ]
  },
  {
   "cell_type": "code",
   "execution_count": 24,
   "metadata": {},
   "outputs": [],
   "source": [
    "data_path = '../training_data/'\n",
    "\n",
    "cosmo_input = np.array([-1.19905956e+00,  5.64263323e-02,  2.98432602e-01,  5.18808777e-02, 6.80501567e-01,  8.68213166e-01,  2.37740307e-09])\n",
    "# cosmo_input = np.array([3.09467085e-01,  5.94827586e-02,  6.77351097e+01,  1.07586207e+00, 8.19210125e-01, -4.99360350e+00])"
   ]
  },
  {
   "cell_type": "code",
   "execution_count": 25,
   "metadata": {},
   "outputs": [],
   "source": [
    "LootiEmu = cem.CosmoEmulator(cosmo_quantities=['Plin'], \n",
    "                             cosmo_inputs=cosmo_input, data_path=data_path)"
   ]
  },
  {
   "cell_type": "code",
   "execution_count": 26,
   "metadata": {},
   "outputs": [
    {
     "name": "stdout",
     "output_type": "stream",
     "text": [
      "('number of obtained training vectors', 302)\n",
      "('number of obtained validation vectors', 302)\n"
     ]
    }
   ],
   "source": [
    "LootiEmu.read_data(n_train=300, n_test=10)"
   ]
  },
  {
   "cell_type": "code",
   "execution_count": 28,
   "metadata": {},
   "outputs": [],
   "source": [
    "LootiEmu.create_intobj(cosmo_quantity='Plin', ncomp=8)"
   ]
  },
  {
   "cell_type": "code",
   "execution_count": 29,
   "metadata": {},
   "outputs": [],
   "source": [
    "pred = LootiEmu.get_prediction(cosmo_quantity='Plin', input_params=cosmo_input)"
   ]
  },
  {
   "cell_type": "code",
   "execution_count": null,
   "metadata": {},
   "outputs": [],
   "source": []
  }
 ],
 "metadata": {
  "kernelspec": {
   "display_name": "lootiemu",
   "language": "python",
   "name": "python3"
  },
  "language_info": {
   "codemirror_mode": {
    "name": "ipython",
    "version": 3
   },
   "file_extension": ".py",
   "mimetype": "text/x-python",
   "name": "python",
   "nbconvert_exporter": "python",
   "pygments_lexer": "ipython3",
   "version": "3.11.3"
  },
  "orig_nbformat": 4
 },
 "nbformat": 4,
 "nbformat_minor": 2
}
