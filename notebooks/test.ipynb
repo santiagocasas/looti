{
 "cells": [
  {
   "cell_type": "code",
   "execution_count": 15,
   "metadata": {},
   "outputs": [],
   "source": [
    "from looti import cosmo_emulator as cem\n",
    "import matplotlib.pyplot as plt\n",
    "import pandas as pd\n",
    "import numpy as np\n",
    "import pickle"
   ]
  },
  {
   "cell_type": "code",
   "execution_count": 20,
   "metadata": {},
   "outputs": [],
   "source": [
    "data_path = '../training_data/'"
   ]
  },
  {
   "attachments": {},
   "cell_type": "markdown",
   "metadata": {},
   "source": [
    "### Pk"
   ]
  },
  {
   "cell_type": "code",
   "execution_count": 21,
   "metadata": {},
   "outputs": [],
   "source": [
    "LootiEmu_pk = cem.CosmoEmulator()"
   ]
  },
  {
   "cell_type": "code",
   "execution_count": 22,
   "metadata": {},
   "outputs": [],
   "source": [
    "LootiEmu_pk.read_data(cosmo_quantity='Plin', data_path=data_path, n_params=7, n_train=300, n_test=10)"
   ]
  },
  {
   "cell_type": "code",
   "execution_count": 23,
   "metadata": {},
   "outputs": [],
   "source": [
    "LootiEmu_pk.create_intobj(cosmo_quantity='Plin', n_params=7, mult_gp=False)"
   ]
  },
  {
   "cell_type": "code",
   "execution_count": 34,
   "metadata": {},
   "outputs": [],
   "source": [
    "input_dict_pk = {'w0_fld': -0.924765, \n",
    "                 'wa_fld': 0.108150, \n",
    "                 'Omega_m': 0.328527, \n",
    "                 'Omega_b': 0.056975, \n",
    "                 'h': 0.695204, \n",
    "                 'n_s': 1.089404, \n",
    "                 'A_s': 2.387406e-09}"
   ]
  },
  {
   "cell_type": "code",
   "execution_count": 35,
   "metadata": {},
   "outputs": [],
   "source": [
    "k_grid, pk_pred = LootiEmu_pk.get_prediction(cosmo_quantity='Plin',input_dict=input_dict_pk)"
   ]
  },
  {
   "cell_type": "code",
   "execution_count": 36,
   "metadata": {},
   "outputs": [],
   "source": [
    "df = pd.read_csv('../training_data/Plin.csv', index_col=list(range(16)))\n",
    "pks = df.loc['Plin'].values[0].flatten()\n",
    "ks = df.loc['grid'].values.flatten()"
   ]
  },
  {
   "cell_type": "code",
   "execution_count": 37,
   "metadata": {},
   "outputs": [
    {
     "data": {
      "text/plain": [
       "[<matplotlib.lines.Line2D at 0x7fdc9cbd8a90>]"
      ]
     },
     "execution_count": 37,
     "metadata": {},
     "output_type": "execute_result"
    },
    {
     "data": {
      "image/png": "[encoded data removed]",
      "text/plain": [
       "<Figure size 640x480 with 1 Axes>"
      ]
     },
     "metadata": {},
     "output_type": "display_data"
    }
   ],
   "source": [
    "import matplotlib.pyplot as plt\n",
    "plt.semilogy(k_grid, pk_pred, color='cornflowerblue')\n",
    "plt.semilogy(np.log10(ks), pks, linestyle='--', color='firebrick')"
   ]
  },
  {
   "cell_type": "code",
   "execution_count": null,
   "metadata": {},
   "outputs": [],
   "source": [
    "emulation_data_pk = LootiEmu_pk.data['Plin']\n",
    "intobj_pk = LootiEmu_pk.intobjs['Plin']"
   ]
  },
  {
   "cell_type": "code",
   "execution_count": null,
   "metadata": {},
   "outputs": [],
   "source": [
    "save_path = '.../interpolators/'\n",
    "save_name = 'Plin'"
   ]
  },
  {
   "cell_type": "code",
   "execution_count": null,
   "metadata": {},
   "outputs": [],
   "source": [
    "pickle.dump(emulation_data_pk, open(save_path+save_name+'_data.sav', 'wb'))\n",
    "pickle.dump(intobj_pk, open(save_path+save_name+'.sav', 'wb'))"
   ]
  },
  {
   "attachments": {},
   "cell_type": "markdown",
   "metadata": {},
   "source": [
    "## Cls"
   ]
  },
  {
   "cell_type": "code",
   "execution_count": 1,
   "metadata": {},
   "outputs": [],
   "source": [
    "from looti import cosmo_emulator as cem\n",
    "import matplotlib.pyplot as plt\n",
    "import numpy as np\n",
    "import pandas as pd\n",
    "import pickle"
   ]
  },
  {
   "cell_type": "code",
   "execution_count": 2,
   "metadata": {},
   "outputs": [],
   "source": [
    "data_path = '../training_data/'"
   ]
  },
  {
   "cell_type": "code",
   "execution_count": 3,
   "metadata": {},
   "outputs": [],
   "source": [
    "LootiEmu_cl = cem.CosmoEmulator()"
   ]
  },
  {
   "cell_type": "code",
   "execution_count": 4,
   "metadata": {},
   "outputs": [],
   "source": [
    "LootiEmu_cl.read_data(cosmo_quantity='ttcl', data_path=data_path, n_params=6, n_train=300, n_test=10, features_to_Log=False)"
   ]
  },
  {
   "cell_type": "code",
   "execution_count": 6,
   "metadata": {},
   "outputs": [],
   "source": [
    "LootiEmu_cl.create_intobj(cosmo_quantity='ttcl', n_params=6, mult_gp=False)"
   ]
  },
  {
   "cell_type": "code",
   "execution_count": 7,
   "metadata": {},
   "outputs": [],
   "source": [
    "input_dict_cl = {'omega_b': 0.022834, \n",
    "                 'omega_cdm': 0.118206, \n",
    "                 'H0': 65.9587, \n",
    "                 'A_s': 2.119838e-09, \n",
    "                 'n_s': 0.96172, \n",
    "                 'tau_reio': 0.064729}"
   ]
  },
  {
   "cell_type": "code",
   "execution_count": 9,
   "metadata": {},
   "outputs": [],
   "source": [
    "l_grid, cl_pred = LootiEmu_cl.get_prediction(cosmo_quantity='ttcl',input_dict=input_dict_cl)"
   ]
  },
  {
   "cell_type": "code",
   "execution_count": 10,
   "metadata": {},
   "outputs": [],
   "source": [
    "df = pd.read_csv('../training_data/ttcl.csv', index_col=list(range(14)))\n",
    "cls = df.loc['ttcl'].values[0].flatten()\n",
    "ell = df.loc['grid'].values.flatten()"
   ]
  },
  {
   "cell_type": "code",
   "execution_count": 18,
   "metadata": {},
   "outputs": [
    {
     "data": {
      "text/plain": [
       "[<matplotlib.lines.Line2D at 0x7fdca4237f10>]"
      ]
     },
     "execution_count": 18,
     "metadata": {},
     "output_type": "execute_result"
    },
    {
     "data": {
      "image/png": "[encoded data removed]",
      "text/plain": [
       "<Figure size 640x480 with 1 Axes>"
      ]
     },
     "metadata": {},
     "output_type": "display_data"
    }
   ],
   "source": [
    "import matplotlib.pyplot as plt\n",
    "plt.plot(ell, cls* ell * (ell + 1) / 2. /np.pi, color='cornflowerblue')\n",
    "plt.plot(l_grid, cl_pred* ell * (ell + 1) / 2. /np.pi, linestyle='--', color='firebrick')"
   ]
  },
  {
   "cell_type": "code",
   "execution_count": null,
   "metadata": {},
   "outputs": [],
   "source": [
    "emulation_data_cl = LootiEmu_pk.data['ttcl']\n",
    "intobj_cl = LootiEmu_pk.intobjs['ttcl']"
   ]
  },
  {
   "cell_type": "code",
   "execution_count": null,
   "metadata": {},
   "outputs": [],
   "source": [
    "save_path = '.../interpolators/'\n",
    "save_name = 'ttcl'"
   ]
  },
  {
   "cell_type": "code",
   "execution_count": null,
   "metadata": {},
   "outputs": [],
   "source": [
    "pickle.dump(emulation_data_cl, open(save_path+save_name+'_data.sav', 'wb'))\n",
    "pickle.dump(intobj_cl, open(save_path+save_name+'.sav', 'wb'))"
   ]
  }
 ],
 "metadata": {
  "kernelspec": {
   "display_name": "lootiemu",
   "language": "python",
   "name": "python3"
  },
  "language_info": {
   "codemirror_mode": {
    "name": "ipython",
    "version": 3
   },
   "file_extension": ".py",
   "mimetype": "text/x-python",
   "name": "python",
   "nbconvert_exporter": "python",
   "pygments_lexer": "ipython3",
   "version": "3.11.3"
  },
  "orig_nbformat": 4
 },
 "nbformat": 4,
 "nbformat_minor": 2
}
