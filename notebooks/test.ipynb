{
 "cells": [
  {
   "cell_type": "code",
   "execution_count": null,
   "metadata": {},
   "outputs": [],
   "source": [
    "from looti import cosmo_emulator as cem\n",
    "import matplotlib.pyplot as plt\n",
    "import pandas as pd\n",
    "import numpy as np\n",
    "import pickle"
   ]
  },
  {
   "cell_type": "code",
   "execution_count": null,
   "metadata": {},
   "outputs": [],
   "source": [
    "data_path = '../training_data/'\n",
    "file_name = 'Plin_ellipse'"
   ]
  },
  {
   "attachments": {},
   "cell_type": "markdown",
   "metadata": {},
   "source": [
    "### Pk"
   ]
  },
  {
   "cell_type": "code",
   "execution_count": null,
   "metadata": {},
   "outputs": [],
   "source": [
    "LootiEmu_pk = cem.CosmoEmulator()"
   ]
  },
  {
   "cell_type": "code",
   "execution_count": null,
   "metadata": {},
   "outputs": [],
   "source": [
    "LootiEmu_pk.read_data(cosmo_quantity='Plin', \n",
    "                      data_path=data_path, \n",
    "                      file_name=file_name, \n",
    "                      n_params=7, \n",
    "                      n_train=300, \n",
    "                      n_test=10,\n",
    "                      feautures_to_Log=True,\n",
    "                      observable_to_Log=False)"
   ]
  },
  {
   "cell_type": "code",
   "execution_count": null,
   "metadata": {},
   "outputs": [],
   "source": [
    "LootiEmu_pk.create_intobj(cosmo_quantity='Plin', n_params=7, mult_gp=True)"
   ]
  },
  {
   "cell_type": "code",
   "execution_count": null,
   "metadata": {},
   "outputs": [],
   "source": [
    "test_index = 0"
   ]
  },
  {
   "cell_type": "code",
   "execution_count": null,
   "metadata": {},
   "outputs": [],
   "source": [
    "df = pd.read_csv(data_path+file_name+'.csv', index_col=list(range(16)))\n",
    "pks = df.loc['Plin'].values[test_index].flatten()\n",
    "ks = df.loc['grid'].values.flatten()"
   ]
  },
  {
   "cell_type": "code",
   "execution_count": null,
   "metadata": {},
   "outputs": [],
   "source": [
    "input_dict_pk = {'w0_fld': df.index.get_level_values('parameter_1_value')[test_index], \n",
    "                 'wa_fld': df.index.get_level_values('parameter_2_value')[test_index], \n",
    "                 'Omega_m': df.index.get_level_values('parameter_3_value')[test_index], \n",
    "                 'Omega_b': df.index.get_level_values('parameter_4_value')[test_index], \n",
    "                 'h': df.index.get_level_values('parameter_5_value')[test_index], \n",
    "                 'n_s': df.index.get_level_values('parameter_6_value')[test_index], \n",
    "                 'A_s': df.index.get_level_values('parameter_7_value')[test_index]}"
   ]
  },
  {
   "cell_type": "code",
   "execution_count": null,
   "metadata": {},
   "outputs": [],
   "source": [
    "k_grid, pk_pred = LootiEmu_pk.get_prediction(cosmo_quantity='Plin',input_dict=input_dict_pk)"
   ]
  },
  {
   "cell_type": "code",
   "execution_count": null,
   "metadata": {},
   "outputs": [],
   "source": [
    "import matplotlib.pyplot as plt\n",
    "plt.semilogy(k_grid, pk_pred, color='cornflowerblue')\n",
    "plt.semilogy(np.log10(ks), pks, linestyle='--', color='firebrick')"
   ]
  },
  {
   "cell_type": "code",
   "execution_count": null,
   "metadata": {},
   "outputs": [],
   "source": [
    "emulation_data_pk = LootiEmu_pk.data['Plin']\n",
    "intobj_pk = LootiEmu_pk.intobjs['Plin']"
   ]
  },
  {
   "cell_type": "code",
   "execution_count": null,
   "metadata": {},
   "outputs": [],
   "source": [
    "save_path = '.../interpolators/'\n",
    "save_name = 'Plin'"
   ]
  },
  {
   "cell_type": "code",
   "execution_count": null,
   "metadata": {},
   "outputs": [],
   "source": [
    "pickle.dump(emulation_data_pk, open(save_path+save_name+'_data.sav', 'wb'))\n",
    "pickle.dump(intobj_pk, open(save_path+save_name+'.sav', 'wb'))"
   ]
  },
  {
   "attachments": {},
   "cell_type": "markdown",
   "metadata": {},
   "source": [
    "## Cls"
   ]
  },
  {
   "cell_type": "code",
   "execution_count": null,
   "metadata": {},
   "outputs": [],
   "source": [
    "from looti import cosmo_emulator as cem\n",
    "import matplotlib.pyplot as plt\n",
    "import numpy as np\n",
    "import pandas as pd\n",
    "import pickle"
   ]
  },
  {
   "cell_type": "code",
   "execution_count": null,
   "metadata": {},
   "outputs": [],
   "source": [
    "data_path = '../training_data/'\n",
    "file_name = 'ttcl_ellipse'"
   ]
  },
  {
   "cell_type": "code",
   "execution_count": null,
   "metadata": {},
   "outputs": [],
   "source": [
    "LootiEmu_cl = cem.CosmoEmulator()"
   ]
  },
  {
   "cell_type": "code",
   "execution_count": null,
   "metadata": {},
   "outputs": [],
   "source": [
    "LootiEmu_cl.read_data(cosmo_quantity='ttcl', \n",
    "                      data_path=data_path, \n",
    "                      file_name=file_name, \n",
    "                      n_params=6, \n",
    "                      n_train=300, \n",
    "                      n_test=10, \n",
    "                      features_to_Log=False\n",
    "                      )"
   ]
  },
  {
   "cell_type": "code",
   "execution_count": null,
   "metadata": {},
   "outputs": [],
   "source": [
    "LootiEmu_cl.create_intobj(cosmo_quantity='ttcl', n_params=6, mult_gp=False)"
   ]
  },
  {
   "cell_type": "code",
   "execution_count": null,
   "metadata": {},
   "outputs": [],
   "source": [
    "test_index = 0"
   ]
  },
  {
   "cell_type": "code",
   "execution_count": null,
   "metadata": {},
   "outputs": [],
   "source": [
    "df = pd.read_csv(data_path+file_name+'.csv', index_col=list(range(14)))\n",
    "cls = df.loc['ttcl'].values[test_index].flatten()\n",
    "ell = df.loc['grid'].values.flatten()"
   ]
  },
  {
   "cell_type": "code",
   "execution_count": null,
   "metadata": {},
   "outputs": [],
   "source": [
    "input_dict_cl = {'omega_b': df.index.get_level_values('parameter_1_value')[test_index], \n",
    "                 'omega_cdm': df.index.get_level_values('parameter_2_value')[test_index], \n",
    "                 'H0': df.index.get_level_values('parameter_3_value')[test_index], \n",
    "                 'A_s': df.index.get_level_values('parameter_4_value')[test_index], \n",
    "                 'n_s': df.index.get_level_values('parameter_5_value')[test_index], \n",
    "                 'tau_reio': df.index.get_level_values('parameter_6_value')[test_index]}"
   ]
  },
  {
   "cell_type": "code",
   "execution_count": null,
   "metadata": {},
   "outputs": [],
   "source": [
    "l_grid, cl_pred = LootiEmu_cl.get_prediction(cosmo_quantity='ttcl',input_dict=input_dict_cl)"
   ]
  },
  {
   "cell_type": "code",
   "execution_count": null,
   "metadata": {},
   "outputs": [],
   "source": [
    "import matplotlib.pyplot as plt\n",
    "plt.plot(ell, cls* ell * (ell + 1) / 2. /np.pi, color='cornflowerblue')\n",
    "plt.plot(l_grid, cl_pred* ell * (ell + 1) / 2. /np.pi, linestyle='--', color='firebrick')"
   ]
  },
  {
   "cell_type": "code",
   "execution_count": null,
   "metadata": {},
   "outputs": [],
   "source": [
    "emulation_data_cl = LootiEmu_pk.data['ttcl']\n",
    "intobj_cl = LootiEmu_pk.intobjs['ttcl']"
   ]
  },
  {
   "cell_type": "code",
   "execution_count": null,
   "metadata": {},
   "outputs": [],
   "source": [
    "save_path = '.../interpolators/'\n",
    "save_name = 'ttcl'"
   ]
  },
  {
   "cell_type": "code",
   "execution_count": null,
   "metadata": {},
   "outputs": [],
   "source": [
    "pickle.dump(emulation_data_cl, open(save_path+save_name+'_data.sav', 'wb'))\n",
    "pickle.dump(intobj_cl, open(save_path+save_name+'.sav', 'wb'))"
   ]
  }
 ],
 "metadata": {
  "kernelspec": {
   "display_name": "lootiemu",
   "language": "python",
   "name": "python3"
  },
  "language_info": {
   "codemirror_mode": {
    "name": "ipython",
    "version": 3
   },
   "file_extension": ".py",
   "mimetype": "text/x-python",
   "name": "python",
   "nbconvert_exporter": "python",
   "pygments_lexer": "ipython3",
   "version": "3.11.3"
  },
  "orig_nbformat": 4
 },
 "nbformat": 4,
 "nbformat_minor": 2
}
