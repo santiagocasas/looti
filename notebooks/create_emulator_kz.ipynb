{
 "cells": [
  {
   "attachments": {},
   "cell_type": "markdown",
   "metadata": {},
   "source": [
    "# Create looti emulators for observables dependent on z & k"
   ]
  },
  {
   "attachments": {},
   "cell_type": "markdown",
   "metadata": {},
   "source": [
    "## Example 1: linear power spectrum $P_{lin}$"
   ]
  },
  {
   "attachments": {},
   "cell_type": "markdown",
   "metadata": {},
   "source": [
    "## 1) Create a pandas dataframe from data files"
   ]
  },
  {
   "attachments": {},
   "cell_type": "markdown",
   "metadata": {},
   "source": [
    "Load looti module read_files"
   ]
  },
  {
   "cell_type": "code",
   "execution_count": 1,
   "metadata": {},
   "outputs": [],
   "source": [
    "from looti import read_files as rf"
   ]
  },
  {
   "attachments": {},
   "cell_type": "markdown",
   "metadata": {},
   "source": [
    "The path to the data files and other specifications are passed to looti via a yaml file.\n",
    "The yaml file should contain the following information:\n",
    "- main_dir: the directory in which all relevant folders and files are stored\n",
    "- config_file: this file should include a section called where the varying parameters are specified\n",
    "\n",
    "- folders_path: path to the directory containing all the data folders, one for each class/camb run\n",
    "- params_file: each data folder should contain a file specifying the values of each parameter for this run\n",
    "- reference folder: name of the folder containing a run with fiducial values used as reference\n",
    "\n",
    "- z_file_name: file containing the redshift grid\n",
    "- k_file_name: file containing the k grid\n",
    "- data_file_name: file containing the data to be emulated\n",
    "- data_type: name of observable to be emulated"
   ]
  },
  {
   "attachments": {},
   "cell_type": "markdown",
   "metadata": {},
   "source": [
    "Create an instance of \"FrameConstructor\" - the looti class used for data management.\n",
    "FrameConstructor takes the path to this yamle file as input"
   ]
  },
  {
   "cell_type": "code",
   "execution_count": 2,
   "metadata": {},
   "outputs": [],
   "source": [
    "FrameConstructor = rf.FrameConstructor(path_config_file='../readfile_configs/input4cast_lhs_Plin.yaml')"
   ]
  },
  {
   "attachments": {},
   "cell_type": "markdown",
   "metadata": {},
   "source": [
    "Create a dataframe containing all training and test data"
   ]
  },
  {
   "cell_type": "code",
   "execution_count": 4,
   "metadata": {},
   "outputs": [],
   "source": [
    "dataframe_ext = FrameConstructor.create_k_dataframe()\n",
    "dataframe_ext"
   ]
  },
  {
   "attachments": {},
   "cell_type": "markdown",
   "metadata": {},
   "source": [
    "Save the dataframe"
   ]
  },
  {
   "cell_type": "code",
   "execution_count": 5,
   "metadata": {},
   "outputs": [],
   "source": [
    "# dataframe_ext.to_csv(\"../data/rwth_output/class_Asw0wa_DP/Plin.csv\")"
   ]
  },
  {
   "attachments": {},
   "cell_type": "markdown",
   "metadata": {},
   "source": [
    "Create a dataframe containing reference at fiducial values for the varying parameters at each redshift."
   ]
  },
  {
   "cell_type": "code",
   "execution_count": 8,
   "metadata": {},
   "outputs": [
    {
     "data": {
      "text/html": [
       "<div>\n",
       "<style scoped>\n",
       "    .dataframe tbody tr th:only-of-type {\n",
       "        vertical-align: middle;\n",
       "    }\n",
       "\n",
       "    .dataframe tbody tr th {\n",
       "        vertical-align: top;\n",
       "    }\n",
       "\n",
       "    .dataframe thead th {\n",
       "        text-align: right;\n",
       "    }\n",
       "</style>\n",
       "<table border=\"1\" class=\"dataframe\">\n",
       "  <thead>\n",
       "    <tr style=\"text-align: right;\">\n",
       "      <th></th>\n",
       "      <th></th>\n",
       "      <th>1</th>\n",
       "      <th>2</th>\n",
       "      <th>3</th>\n",
       "      <th>4</th>\n",
       "      <th>5</th>\n",
       "      <th>6</th>\n",
       "      <th>7</th>\n",
       "      <th>8</th>\n",
       "      <th>9</th>\n",
       "      <th>10</th>\n",
       "      <th>...</th>\n",
       "      <th>791</th>\n",
       "      <th>792</th>\n",
       "      <th>793</th>\n",
       "      <th>794</th>\n",
       "      <th>795</th>\n",
       "      <th>796</th>\n",
       "      <th>797</th>\n",
       "      <th>798</th>\n",
       "      <th>799</th>\n",
       "      <th>800</th>\n",
       "    </tr>\n",
       "    <tr>\n",
       "      <th>data_type</th>\n",
       "      <th>redshift</th>\n",
       "      <th></th>\n",
       "      <th></th>\n",
       "      <th></th>\n",
       "      <th></th>\n",
       "      <th></th>\n",
       "      <th></th>\n",
       "      <th></th>\n",
       "      <th></th>\n",
       "      <th></th>\n",
       "      <th></th>\n",
       "      <th></th>\n",
       "      <th></th>\n",
       "      <th></th>\n",
       "      <th></th>\n",
       "      <th></th>\n",
       "      <th></th>\n",
       "      <th></th>\n",
       "      <th></th>\n",
       "      <th></th>\n",
       "      <th></th>\n",
       "      <th></th>\n",
       "    </tr>\n",
       "  </thead>\n",
       "  <tbody>\n",
       "    <tr>\n",
       "      <th rowspan=\"10\" valign=\"top\">Plin</th>\n",
       "      <th>0.0</th>\n",
       "      <td>431.113317</td>\n",
       "      <td>437.961008</td>\n",
       "      <td>444.917352</td>\n",
       "      <td>451.984068</td>\n",
       "      <td>459.162899</td>\n",
       "      <td>466.455620</td>\n",
       "      <td>473.864033</td>\n",
       "      <td>481.389969</td>\n",
       "      <td>489.035283</td>\n",
       "      <td>496.801860</td>\n",
       "      <td>...</td>\n",
       "      <td>0.004483</td>\n",
       "      <td>0.004287</td>\n",
       "      <td>0.004099</td>\n",
       "      <td>0.003920</td>\n",
       "      <td>0.003749</td>\n",
       "      <td>0.003585</td>\n",
       "      <td>0.003428</td>\n",
       "      <td>0.003277</td>\n",
       "      <td>0.003134</td>\n",
       "      <td>0.002997</td>\n",
       "    </tr>\n",
       "    <tr>\n",
       "      <th>0.05</th>\n",
       "      <td>408.700290</td>\n",
       "      <td>415.191993</td>\n",
       "      <td>421.786702</td>\n",
       "      <td>428.486045</td>\n",
       "      <td>435.291678</td>\n",
       "      <td>442.205280</td>\n",
       "      <td>449.228561</td>\n",
       "      <td>456.363255</td>\n",
       "      <td>463.611122</td>\n",
       "      <td>470.973948</td>\n",
       "      <td>...</td>\n",
       "      <td>0.004250</td>\n",
       "      <td>0.004065</td>\n",
       "      <td>0.003887</td>\n",
       "      <td>0.003717</td>\n",
       "      <td>0.003554</td>\n",
       "      <td>0.003399</td>\n",
       "      <td>0.003250</td>\n",
       "      <td>0.003108</td>\n",
       "      <td>0.002972</td>\n",
       "      <td>0.002841</td>\n",
       "    </tr>\n",
       "    <tr>\n",
       "      <th>0.1</th>\n",
       "      <td>387.361268</td>\n",
       "      <td>393.514041</td>\n",
       "      <td>399.764443</td>\n",
       "      <td>406.114018</td>\n",
       "      <td>412.564334</td>\n",
       "      <td>419.116984</td>\n",
       "      <td>425.773587</td>\n",
       "      <td>432.535786</td>\n",
       "      <td>439.405248</td>\n",
       "      <td>446.383670</td>\n",
       "      <td>...</td>\n",
       "      <td>0.004029</td>\n",
       "      <td>0.003853</td>\n",
       "      <td>0.003685</td>\n",
       "      <td>0.003524</td>\n",
       "      <td>0.003369</td>\n",
       "      <td>0.003222</td>\n",
       "      <td>0.003081</td>\n",
       "      <td>0.002946</td>\n",
       "      <td>0.002817</td>\n",
       "      <td>0.002693</td>\n",
       "    </tr>\n",
       "    <tr>\n",
       "      <th>0.15000000000000002</th>\n",
       "      <td>367.105848</td>\n",
       "      <td>372.936901</td>\n",
       "      <td>378.860479</td>\n",
       "      <td>384.878046</td>\n",
       "      <td>390.991087</td>\n",
       "      <td>397.201113</td>\n",
       "      <td>403.509657</td>\n",
       "      <td>409.918274</td>\n",
       "      <td>416.428548</td>\n",
       "      <td>423.042085</td>\n",
       "      <td>...</td>\n",
       "      <td>0.003819</td>\n",
       "      <td>0.003652</td>\n",
       "      <td>0.003493</td>\n",
       "      <td>0.003340</td>\n",
       "      <td>0.003194</td>\n",
       "      <td>0.003054</td>\n",
       "      <td>0.002920</td>\n",
       "      <td>0.002792</td>\n",
       "      <td>0.002670</td>\n",
       "      <td>0.002553</td>\n",
       "    </tr>\n",
       "    <tr>\n",
       "      <th>0.2</th>\n",
       "      <td>347.927195</td>\n",
       "      <td>353.453631</td>\n",
       "      <td>359.067759</td>\n",
       "      <td>364.770965</td>\n",
       "      <td>370.564660</td>\n",
       "      <td>376.450273</td>\n",
       "      <td>382.429258</td>\n",
       "      <td>388.503091</td>\n",
       "      <td>394.673270</td>\n",
       "      <td>400.941319</td>\n",
       "      <td>...</td>\n",
       "      <td>0.003620</td>\n",
       "      <td>0.003462</td>\n",
       "      <td>0.003311</td>\n",
       "      <td>0.003166</td>\n",
       "      <td>0.003028</td>\n",
       "      <td>0.002895</td>\n",
       "      <td>0.002768</td>\n",
       "      <td>0.002647</td>\n",
       "      <td>0.002531</td>\n",
       "      <td>0.002420</td>\n",
       "    </tr>\n",
       "    <tr>\n",
       "      <th>...</th>\n",
       "      <td>...</td>\n",
       "      <td>...</td>\n",
       "      <td>...</td>\n",
       "      <td>...</td>\n",
       "      <td>...</td>\n",
       "      <td>...</td>\n",
       "      <td>...</td>\n",
       "      <td>...</td>\n",
       "      <td>...</td>\n",
       "      <td>...</td>\n",
       "      <td>...</td>\n",
       "      <td>...</td>\n",
       "      <td>...</td>\n",
       "      <td>...</td>\n",
       "      <td>...</td>\n",
       "      <td>...</td>\n",
       "      <td>...</td>\n",
       "      <td>...</td>\n",
       "      <td>...</td>\n",
       "      <td>...</td>\n",
       "      <td>...</td>\n",
       "    </tr>\n",
       "    <tr>\n",
       "      <th>4.8500000000000005</th>\n",
       "      <td>19.980626</td>\n",
       "      <td>20.298037</td>\n",
       "      <td>20.620487</td>\n",
       "      <td>20.948056</td>\n",
       "      <td>21.280824</td>\n",
       "      <td>21.618874</td>\n",
       "      <td>21.962290</td>\n",
       "      <td>22.311156</td>\n",
       "      <td>22.665558</td>\n",
       "      <td>23.025585</td>\n",
       "      <td>...</td>\n",
       "      <td>0.000211</td>\n",
       "      <td>0.000202</td>\n",
       "      <td>0.000193</td>\n",
       "      <td>0.000184</td>\n",
       "      <td>0.000176</td>\n",
       "      <td>0.000169</td>\n",
       "      <td>0.000161</td>\n",
       "      <td>0.000154</td>\n",
       "      <td>0.000147</td>\n",
       "      <td>0.000141</td>\n",
       "    </tr>\n",
       "    <tr>\n",
       "      <th>4.9</th>\n",
       "      <td>19.644348</td>\n",
       "      <td>19.956417</td>\n",
       "      <td>20.273441</td>\n",
       "      <td>20.595497</td>\n",
       "      <td>20.922665</td>\n",
       "      <td>21.255026</td>\n",
       "      <td>21.592662</td>\n",
       "      <td>21.935657</td>\n",
       "      <td>22.284095</td>\n",
       "      <td>22.638063</td>\n",
       "      <td>...</td>\n",
       "      <td>0.000207</td>\n",
       "      <td>0.000198</td>\n",
       "      <td>0.000190</td>\n",
       "      <td>0.000181</td>\n",
       "      <td>0.000173</td>\n",
       "      <td>0.000166</td>\n",
       "      <td>0.000158</td>\n",
       "      <td>0.000152</td>\n",
       "      <td>0.000145</td>\n",
       "      <td>0.000139</td>\n",
       "    </tr>\n",
       "    <tr>\n",
       "      <th>4.95</th>\n",
       "      <td>19.316442</td>\n",
       "      <td>19.623303</td>\n",
       "      <td>19.935035</td>\n",
       "      <td>20.251716</td>\n",
       "      <td>20.573423</td>\n",
       "      <td>20.900236</td>\n",
       "      <td>21.232237</td>\n",
       "      <td>21.569506</td>\n",
       "      <td>21.912129</td>\n",
       "      <td>22.260189</td>\n",
       "      <td>...</td>\n",
       "      <td>0.000204</td>\n",
       "      <td>0.000195</td>\n",
       "      <td>0.000186</td>\n",
       "      <td>0.000178</td>\n",
       "      <td>0.000170</td>\n",
       "      <td>0.000163</td>\n",
       "      <td>0.000156</td>\n",
       "      <td>0.000149</td>\n",
       "      <td>0.000142</td>\n",
       "      <td>0.000136</td>\n",
       "    </tr>\n",
       "    <tr>\n",
       "      <th>5.0</th>\n",
       "      <td>18.996635</td>\n",
       "      <td>19.298416</td>\n",
       "      <td>19.604987</td>\n",
       "      <td>19.916425</td>\n",
       "      <td>20.232806</td>\n",
       "      <td>20.554209</td>\n",
       "      <td>20.880713</td>\n",
       "      <td>21.212399</td>\n",
       "      <td>21.549349</td>\n",
       "      <td>21.891647</td>\n",
       "      <td>...</td>\n",
       "      <td>0.000200</td>\n",
       "      <td>0.000192</td>\n",
       "      <td>0.000183</td>\n",
       "      <td>0.000175</td>\n",
       "      <td>0.000168</td>\n",
       "      <td>0.000160</td>\n",
       "      <td>0.000153</td>\n",
       "      <td>0.000147</td>\n",
       "      <td>0.000140</td>\n",
       "      <td>0.000134</td>\n",
       "    </tr>\n",
       "    <tr>\n",
       "      <th>k_grid</th>\n",
       "      <th></th>\n",
       "      <td>0.000100</td>\n",
       "      <td>0.000102</td>\n",
       "      <td>0.000103</td>\n",
       "      <td>0.000105</td>\n",
       "      <td>0.000107</td>\n",
       "      <td>0.000109</td>\n",
       "      <td>0.000110</td>\n",
       "      <td>0.000112</td>\n",
       "      <td>0.000114</td>\n",
       "      <td>0.000116</td>\n",
       "      <td>...</td>\n",
       "      <td>43.129691</td>\n",
       "      <td>43.843880</td>\n",
       "      <td>44.569895</td>\n",
       "      <td>45.307931</td>\n",
       "      <td>46.058190</td>\n",
       "      <td>46.820871</td>\n",
       "      <td>47.596182</td>\n",
       "      <td>48.384332</td>\n",
       "      <td>49.185532</td>\n",
       "      <td>50.000000</td>\n",
       "    </tr>\n",
       "  </tbody>\n",
       "</table>\n",
       "<p>102 rows × 800 columns</p>\n",
       "</div>"
      ],
      "text/plain": [
       "                                      1           2           3           4    \\\n",
       "data_type redshift                                                              \n",
       "Plin      0.0                  431.113317  437.961008  444.917352  451.984068   \n",
       "          0.05                 408.700290  415.191993  421.786702  428.486045   \n",
       "          0.1                  387.361268  393.514041  399.764443  406.114018   \n",
       "          0.15000000000000002  367.105848  372.936901  378.860479  384.878046   \n",
       "          0.2                  347.927195  353.453631  359.067759  364.770965   \n",
       "...                                   ...         ...         ...         ...   \n",
       "          4.8500000000000005    19.980626   20.298037   20.620487   20.948056   \n",
       "          4.9                   19.644348   19.956417   20.273441   20.595497   \n",
       "          4.95                  19.316442   19.623303   19.935035   20.251716   \n",
       "          5.0                   18.996635   19.298416   19.604987   19.916425   \n",
       "k_grid                           0.000100    0.000102    0.000103    0.000105   \n",
       "\n",
       "                                      5           6           7           8    \\\n",
       "data_type redshift                                                              \n",
       "Plin      0.0                  459.162899  466.455620  473.864033  481.389969   \n",
       "          0.05                 435.291678  442.205280  449.228561  456.363255   \n",
       "          0.1                  412.564334  419.116984  425.773587  432.535786   \n",
       "          0.15000000000000002  390.991087  397.201113  403.509657  409.918274   \n",
       "          0.2                  370.564660  376.450273  382.429258  388.503091   \n",
       "...                                   ...         ...         ...         ...   \n",
       "          4.8500000000000005    21.280824   21.618874   21.962290   22.311156   \n",
       "          4.9                   20.922665   21.255026   21.592662   21.935657   \n",
       "          4.95                  20.573423   20.900236   21.232237   21.569506   \n",
       "          5.0                   20.232806   20.554209   20.880713   21.212399   \n",
       "k_grid                           0.000107    0.000109    0.000110    0.000112   \n",
       "\n",
       "                                      9           10   ...        791  \\\n",
       "data_type redshift                                     ...              \n",
       "Plin      0.0                  489.035283  496.801860  ...   0.004483   \n",
       "          0.05                 463.611122  470.973948  ...   0.004250   \n",
       "          0.1                  439.405248  446.383670  ...   0.004029   \n",
       "          0.15000000000000002  416.428548  423.042085  ...   0.003819   \n",
       "          0.2                  394.673270  400.941319  ...   0.003620   \n",
       "...                                   ...         ...  ...        ...   \n",
       "          4.8500000000000005    22.665558   23.025585  ...   0.000211   \n",
       "          4.9                   22.284095   22.638063  ...   0.000207   \n",
       "          4.95                  21.912129   22.260189  ...   0.000204   \n",
       "          5.0                   21.549349   21.891647  ...   0.000200   \n",
       "k_grid                           0.000114    0.000116  ...  43.129691   \n",
       "\n",
       "                                     792        793        794        795  \\\n",
       "data_type redshift                                                          \n",
       "Plin      0.0                   0.004287   0.004099   0.003920   0.003749   \n",
       "          0.05                  0.004065   0.003887   0.003717   0.003554   \n",
       "          0.1                   0.003853   0.003685   0.003524   0.003369   \n",
       "          0.15000000000000002   0.003652   0.003493   0.003340   0.003194   \n",
       "          0.2                   0.003462   0.003311   0.003166   0.003028   \n",
       "...                                  ...        ...        ...        ...   \n",
       "          4.8500000000000005    0.000202   0.000193   0.000184   0.000176   \n",
       "          4.9                   0.000198   0.000190   0.000181   0.000173   \n",
       "          4.95                  0.000195   0.000186   0.000178   0.000170   \n",
       "          5.0                   0.000192   0.000183   0.000175   0.000168   \n",
       "k_grid                         43.843880  44.569895  45.307931  46.058190   \n",
       "\n",
       "                                     796        797        798        799  \\\n",
       "data_type redshift                                                          \n",
       "Plin      0.0                   0.003585   0.003428   0.003277   0.003134   \n",
       "          0.05                  0.003399   0.003250   0.003108   0.002972   \n",
       "          0.1                   0.003222   0.003081   0.002946   0.002817   \n",
       "          0.15000000000000002   0.003054   0.002920   0.002792   0.002670   \n",
       "          0.2                   0.002895   0.002768   0.002647   0.002531   \n",
       "...                                  ...        ...        ...        ...   \n",
       "          4.8500000000000005    0.000169   0.000161   0.000154   0.000147   \n",
       "          4.9                   0.000166   0.000158   0.000152   0.000145   \n",
       "          4.95                  0.000163   0.000156   0.000149   0.000142   \n",
       "          5.0                   0.000160   0.000153   0.000147   0.000140   \n",
       "k_grid                         46.820871  47.596182  48.384332  49.185532   \n",
       "\n",
       "                                     800  \n",
       "data_type redshift                        \n",
       "Plin      0.0                   0.002997  \n",
       "          0.05                  0.002841  \n",
       "          0.1                   0.002693  \n",
       "          0.15000000000000002   0.002553  \n",
       "          0.2                   0.002420  \n",
       "...                                  ...  \n",
       "          4.8500000000000005    0.000141  \n",
       "          4.9                   0.000139  \n",
       "          4.95                  0.000136  \n",
       "          5.0                   0.000134  \n",
       "k_grid                         50.000000  \n",
       "\n",
       "[102 rows x 800 columns]"
      ]
     },
     "execution_count": 8,
     "metadata": {},
     "output_type": "execute_result"
    }
   ],
   "source": [
    "dataframe_ref = FrameConstructor.create_reference_dataframe()\n",
    "dataframe_ref"
   ]
  },
  {
   "attachments": {},
   "cell_type": "markdown",
   "metadata": {},
   "source": [
    "Save the reference dataframe"
   ]
  },
  {
   "cell_type": "code",
   "execution_count": 33,
   "metadata": {},
   "outputs": [],
   "source": [
    "# dataframe_ref.to_csv(\"../data/rwth_output/class_Asw0wa_DP/Plin_ref.csv\")"
   ]
  },
  {
   "attachments": {},
   "cell_type": "markdown",
   "metadata": {},
   "source": [
    "## 2) Normalize the data and divide it into training, validation and test sets"
   ]
  },
  {
   "attachments": {},
   "cell_type": "markdown",
   "metadata": {},
   "source": [
    "Load looti module datahandle"
   ]
  },
  {
   "cell_type": "code",
   "execution_count": 5,
   "metadata": {},
   "outputs": [],
   "source": [
    "from looti import datahandle as dhl"
   ]
  },
  {
   "attachments": {},
   "cell_type": "markdown",
   "metadata": {},
   "source": [
    "Specify path and names of the pandas dataframes we just created"
   ]
  },
  {
   "cell_type": "code",
   "execution_count": 6,
   "metadata": {},
   "outputs": [],
   "source": [
    "data_folder = '../data/rwth_output/class_Asw0wa_DP/' \n",
    "datafile_ext = 'Plin'\n",
    "datafile_ref = 'Plin_ref'"
   ]
  },
  {
   "attachments": {},
   "cell_type": "markdown",
   "metadata": {},
   "source": [
    "Create a DataHandle object and read the csv files containing the data"
   ]
  },
  {
   "cell_type": "code",
   "execution_count": 7,
   "metadata": {},
   "outputs": [],
   "source": [
    "emulation_data = dhl.DataHandle(datafile_ext,                   # file name of csv file containing input data\n",
    "                                data_folder,                    # path to folder containing both external and reference dataframes\n",
    "                                datafile_ref,                   # file name of csv file containing reference data\n",
    "                                num_parameters=7,               # number of parameters to be interpolated\n",
    "                                data_type='Plin',               # type of observable to be emulated\n",
    "                                features_name='k_grid',         # name of the grid in the data frames\n",
    "                                features_to_Log=True,           # \n",
    "                                ratio_mode=False) \n",
    "emulation_data.read_csv_pandas()"
   ]
  },
  {
   "attachments": {},
   "cell_type": "markdown",
   "metadata": {},
   "source": [
    "Normalize the data (by dividing through the reference and then normalizing by mean and standard deviation)"
   ]
  },
  {
   "cell_type": "code",
   "execution_count": 8,
   "metadata": {},
   "outputs": [],
   "source": [
    "emulation_data.calculate_ratio_by_redshifts(emulation_data.z_vals, normalize=True)"
   ]
  },
  {
   "attachments": {},
   "cell_type": "markdown",
   "metadata": {},
   "source": [
    "Specify the desired number of training and test data. Additionally there is the option for multiple splits and "
   ]
  },
  {
   "cell_type": "code",
   "execution_count": 9,
   "metadata": {},
   "outputs": [],
   "source": [
    "import random\n",
    "import numpy as np \n",
    "\n",
    "n_train = 100                                                 # Number of training vectors without taking acount the extrema \n",
    "n_test = 2                                                     # Number of test vectors without taking acount the extrema\n",
    "n_splits = 1                                                   # Number of splits\n",
    "test_indices=[random.sample(range(1, 1000), n_test)]           # List of list -of test indices, one list per split\n",
    "\n",
    "z_list = list(np.loadtxt('../../input4cast/output/mg_camb_lhs_log10fR0/0000/z_values_list.txt'))     # list of available redshifts"
   ]
  },
  {
   "attachments": {},
   "cell_type": "markdown",
   "metadata": {},
   "source": [
    "Split the data into training, validation and test data sets"
   ]
  },
  {
   "cell_type": "code",
   "execution_count": 10,
   "metadata": {},
   "outputs": [
    {
     "name": "stdout",
     "output_type": "stream",
     "text": [
      "('number of wanted training vectors', 100)\n",
      "('number of wanted test vectors', 2)\n",
      "('redshift used for training', array([0.  , 0.05, 0.1 , 0.15, 0.2 ]))\n",
      "('redshfit used for testing', array([0.  , 0.05, 0.1 , 0.15, 0.2 ]))\n"
     ]
    }
   ],
   "source": [
    "emulation_data.calculate_data_split(n_train=n_train,                            # Number of training vectors per redshift\n",
    "                                    n_test=n_test,                              # Number of test vectors per redsift\n",
    "                                    n_splits=n_splits,\n",
    "                                    verbosity=3,\n",
    "                                    manual_split=True,\n",
    "                                    test_indices=None,\n",
    "                                    train_redshift_indices=list(range(5)),      # Indices of the redshifts used for the train vect.\n",
    "                                    test_redshift_indices=list(range(5)))       # Indices of the redshifts used for the test vect."
   ]
  },
  {
   "attachments": {},
   "cell_type": "markdown",
   "metadata": {},
   "source": [
    "## 3) PCA and GP interpolation"
   ]
  },
  {
   "attachments": {},
   "cell_type": "markdown",
   "metadata": {},
   "source": [
    "Import the looti module dictlearn which is used for PCA transformation and the training of intepolators"
   ]
  },
  {
   "cell_type": "code",
   "execution_count": 11,
   "metadata": {},
   "outputs": [],
   "source": [
    "from looti import dictlearn as dcl"
   ]
  },
  {
   "attachments": {},
   "cell_type": "markdown",
   "metadata": {},
   "source": [
    "Choose the number of PCA components and specify the number of varying parameters"
   ]
  },
  {
   "cell_type": "code",
   "execution_count": 14,
   "metadata": {},
   "outputs": [],
   "source": [
    "npca = 9\n",
    "nparam = 8"
   ]
  },
  {
   "attachments": {},
   "cell_type": "markdown",
   "metadata": {},
   "source": [
    "Now the data is transformed into PCA space and a Gaussian Process (GP) is trained on the PCA components. \n",
    "<br>\n",
    "<br>\n",
    "Required input:\n",
    "- emulation_data\n",
    "\n",
    "\n",
    "Optional input:\n",
    "- Operator: type of interpolation (default = 'PCA')\n",
    "    - LIN: interpolation according to a simple spline\n",
    "    - PCA: interpolation over PCA components\n",
    "    - DL: interpolation over dictionary components of sparse DL representation\n",
    "    - GP: directly train a Gaussian Process on the data without further pre-processing\n",
    "- interp_type: type of interpolator\n",
    "    - GP: Gaussian Process\n",
    "    - int1d:"
   ]
  },
  {
   "cell_type": "code",
   "execution_count": 15,
   "metadata": {},
   "outputs": [
    {
     "name": "stdout",
     "output_type": "stream",
     "text": [
      "('Shape of PCA matrix: (510, 9)',)\n",
      "('Number of PCA components: 9',)\n"
     ]
    },
    {
     "name": "stderr",
     "output_type": "stream",
     "text": [
      "/home/joschafmeister/miniconda3/envs/lootiemu/lib/python3.11/site-packages/sklearn/gaussian_process/_gpr.py:629: ConvergenceWarning: lbfgs failed to converge (status=2):\n",
      "ABNORMAL_TERMINATION_IN_LNSRCH.\n",
      "\n",
      "Increase the number of iterations (max_iter) or scale the data as shown in:\n",
      "    https://scikit-learn.org/stable/modules/preprocessing.html\n",
      "  _check_optimize_result(\"lbfgs\", opt_res)\n"
     ]
    }
   ],
   "source": [
    "ratios_predicted, emulation_data, intobj = dcl.Predict_ratio(emulation_data,Operator=\"PCA\",\n",
    "                                                             train_noise=1e-10,                     # Noise for the GP's kernel\n",
    "                                                             gp_n_rsts=40,                          # max times to restart the optimiser\n",
    "                                                             ncomp=npca,                            # Number of components\n",
    "                                                             gp_const=1,                            # Constant for the RBF kernel\n",
    "                                                             gp_length=np.ones(nparam) ,            # Length for GP \n",
    "                                                             interp_type='GP',                      # Kind of interpolator\n",
    "                                                             n_splits=n_splits,                     # Number of splits\n",
    "                                                             test_indices=test_indices,             # Indices of test vectors\n",
    "                                                             interp_dim=1,\n",
    "                                                             return_interpolator=True,\n",
    "                                                             pca_norm=True,\n",
    "                                                             train_redshift_indices=list(range(5)),\n",
    "                                                             test_redshift_indices=list(range(5))\n",
    "                                                             # min_k =1e-2,ma_k=10e1\n",
    "                                                             )"
   ]
  },
  {
   "attachments": {},
   "cell_type": "markdown",
   "metadata": {},
   "source": [
    "## 4) Save the trained interpolator"
   ]
  },
  {
   "cell_type": "code",
   "execution_count": 18,
   "metadata": {},
   "outputs": [],
   "source": [
    "import pickle"
   ]
  },
  {
   "cell_type": "code",
   "execution_count": 22,
   "metadata": {},
   "outputs": [],
   "source": [
    "save_path = '../interpolators/class_Asw0wa_DP/'\n",
    "intobj_name = 'Plin.sav'\n",
    "data_name = 'Plin_data.sav'"
   ]
  },
  {
   "cell_type": "code",
   "execution_count": 23,
   "metadata": {},
   "outputs": [],
   "source": [
    "pickle.dump(intobj, open(save_path+intobj_name, 'wb'))"
   ]
  },
  {
   "cell_type": "code",
   "execution_count": 24,
   "metadata": {},
   "outputs": [],
   "source": [
    "pickle.dump(emulation_data, open(save_path+data_name, 'wb'))"
   ]
  },
  {
   "attachments": {},
   "cell_type": "markdown",
   "metadata": {},
   "source": [
    "# Now repeat the same procedure for the other observables"
   ]
  },
  {
   "attachments": {},
   "cell_type": "markdown",
   "metadata": {},
   "source": [
    "## Example 2: Non-linear power spectrum $P_{nonlin}$"
   ]
  },
  {
   "cell_type": "code",
   "execution_count": 6,
   "metadata": {},
   "outputs": [],
   "source": [
    "FrameConstructor = rf.FrameConstructor(path_config_file='../readfile_configs/input4cast_lhs_Pnonlin.yaml')"
   ]
  },
  {
   "cell_type": "code",
   "execution_count": null,
   "metadata": {},
   "outputs": [],
   "source": [
    "dataframe_Pnonlin_ext = FrameConstructor.create_dataframe()\n",
    "# dataframe_Pnonlin_ext.to_csv(\"../data/rwth_output/class_Asw0wa_DP/Pnonlin.csv\")"
   ]
  },
  {
   "cell_type": "code",
   "execution_count": null,
   "metadata": {},
   "outputs": [],
   "source": [
    "dataframe_Pnonlin_ref = FrameConstructor.create_reference_dataframe()\n",
    "# dataframe_ref.to_csv(\"../data/rwth_output/class_Asw0wa_DP/Pnonlin_ref.csv\")"
   ]
  },
  {
   "cell_type": "code",
   "execution_count": 8,
   "metadata": {},
   "outputs": [],
   "source": [
    "data_folder = '../data/rwth_output/class_Asw0wa_DP/' \n",
    "datafile_ext = 'Pnonlin'\n",
    "datafile_ref = 'Pnonlin_ref'"
   ]
  },
  {
   "cell_type": "code",
   "execution_count": 9,
   "metadata": {},
   "outputs": [],
   "source": [
    "emulation_data = dhl.DataHandle(datafile_ext,                   # file name of csv file containing input data\n",
    "                                data_folder,                    # path to folder containing both external and reference dataframes\n",
    "                                datafile_ref,                   # file name of csv file containing reference data\n",
    "                                num_parameters=7,               # number of parameters to be interpolated\n",
    "                                data_type='Pnonlin',            # type of observable to be emulated\n",
    "                                features_name='k_grid',         # name of the grid in the data frames\n",
    "                                features_to_Log=True,           # \n",
    "                                ratio_mode=False) \n",
    "\n",
    "emulation_data.read_csv_pandas()"
   ]
  },
  {
   "cell_type": "code",
   "execution_count": 10,
   "metadata": {},
   "outputs": [],
   "source": [
    "emulation_data.calculate_ratio_by_redshifts(emulation_data.z_vals, normalize=True)"
   ]
  },
  {
   "cell_type": "code",
   "execution_count": 11,
   "metadata": {},
   "outputs": [],
   "source": [
    "n_train = 100                                                  # Number of training vectors without taking acount the extrema \n",
    "n_test = 2                                                     # Number of test vectors without taking acount the extrema\n",
    "n_splits = 1                                                   # Number of splits\n",
    "test_indices=[random.sample(range(1, 1000), n_test)]           # List of list -of test indices, one list per split\n",
    "\n",
    "z_list = list(np.loadtxt('../../input4cast/output/mg_camb_lhs_log10fR0/0000/z_values_list.txt'))      # list of available redshifts"
   ]
  },
  {
   "cell_type": "code",
   "execution_count": 12,
   "metadata": {},
   "outputs": [
    {
     "name": "stdout",
     "output_type": "stream",
     "text": [
      "('number of wanted training vectors', 100)\n",
      "('number of wanted test vectors', 2)\n",
      "('redshift used for training', array([0.  , 0.05, 0.1 , 0.15, 0.2 ]))\n",
      "('redshfit used for testing', array([0.  , 0.05, 0.1 , 0.15, 0.2 ]))\n"
     ]
    }
   ],
   "source": [
    "emulation_data.calculate_data_split(n_train=n_train,                            # Number of training vectors per redshift\n",
    "                                    n_test=n_test,                              # Number of test vectors per redsift\n",
    "                                    n_splits=n_splits,\n",
    "                                    verbosity=3,\n",
    "                                    manual_split=True,\n",
    "                                    test_indices=None,\n",
    "                                    train_redshift_indices=list(range(5)),      # Indices of the redshifts used for the train vect.\n",
    "                                    test_redshift_indices=list(range(5)))       # Indices of the redshifts used for the test vect."
   ]
  },
  {
   "cell_type": "code",
   "execution_count": 13,
   "metadata": {},
   "outputs": [],
   "source": [
    "npca = 7\n",
    "nparam = 8"
   ]
  },
  {
   "cell_type": "code",
   "execution_count": 14,
   "metadata": {},
   "outputs": [
    {
     "name": "stdout",
     "output_type": "stream",
     "text": [
      "('Shape of PCA matrix: (510, 7)',)\n",
      "('Number of PCA components: 7',)\n"
     ]
    }
   ],
   "source": [
    "ratios_predicted, emulation_data, intobj = dcl.Predict_ratio(emulation_data,Operator=\"PCA\",\n",
    "                                                             train_noise=1e-10,                     # Noise for the GP's kernel\n",
    "                                                             gp_n_rsts=40,                          # max times to restart the optimiser\n",
    "                                                             ncomp=npca,                            # Number of components\n",
    "                                                             gp_const=1,                            # Constant for the RBF kernel\n",
    "                                                             gp_length=np.ones(nparam) ,            # Length for GP \n",
    "                                                             interp_type='GP',                      # Kind of interpolator\n",
    "                                                             n_splits=n_splits,                     # Number of splits\n",
    "                                                             test_indices=test_indices,             # Indices of test vectors\n",
    "                                                             interp_dim=1,\n",
    "                                                             return_interpolator=True,\n",
    "                                                             pca_norm=True,\n",
    "                                                             train_redshift_indices=list(range(5)),\n",
    "                                                             test_redshift_indices=list(range(5))\n",
    "                                                             # min_k =1e-2,ma_k=10e1\n",
    "                                                             )"
   ]
  },
  {
   "cell_type": "code",
   "execution_count": 15,
   "metadata": {},
   "outputs": [],
   "source": [
    "import pickle\n",
    "save_path = '../interpolators/class_Asw0wa_DP/'\n",
    "save_name = 'D_Growth.sav'\n",
    "pickle.dump(intobj, open(save_path+save_name, 'wb'))"
   ]
  },
  {
   "attachments": {},
   "cell_type": "markdown",
   "metadata": {},
   "source": [
    "## Example 3: Growth factor $D$"
   ]
  },
  {
   "cell_type": "code",
   "execution_count": 1,
   "metadata": {},
   "outputs": [],
   "source": [
    "from looti import datahandle as dhl\n",
    "from looti import dictlearn as dcl\n",
    "import numpy as np\n",
    "import random"
   ]
  },
  {
   "cell_type": "code",
   "execution_count": null,
   "metadata": {},
   "outputs": [],
   "source": [
    "FrameConstructor = rf.FrameConstructor(path_config_file='../readfile_configs/input4cast_lhs_D_Growth.yaml')"
   ]
  },
  {
   "cell_type": "code",
   "execution_count": null,
   "metadata": {},
   "outputs": [],
   "source": [
    "dataframe_D_Growth_ext = FrameConstructor.create_dataframe()\n",
    "# dataframe_D_Growth_ext.to_csv(\"../data/rwth_output/class_Asw0wa_DP/D_Growth.csv\")"
   ]
  },
  {
   "cell_type": "code",
   "execution_count": 54,
   "metadata": {},
   "outputs": [],
   "source": [
    "dataframe_D_Growth_ref = FrameConstructor.create_reference_dataframe()\n",
    "# dataframe_D_Growth_ref.to_csv(\"../data/rwth_output/class_Asw0wa_DP/D_Growth_ref.csv\")"
   ]
  },
  {
   "cell_type": "code",
   "execution_count": 2,
   "metadata": {},
   "outputs": [],
   "source": [
    "data_folder = '../data/rwth_output/class_Asw0wa_DP/'\n",
    "datafile_ext = 'D_Growth'\n",
    "datafile_ref = 'D_Growth_ref'"
   ]
  },
  {
   "cell_type": "code",
   "execution_count": 4,
   "metadata": {},
   "outputs": [],
   "source": [
    "emulation_data = dhl.DataHandle(datafile_ext,                   # file name of csv file containing input data\n",
    "                                data_folder,                    # path to folder containing both external and reference dataframes\n",
    "                                datafile_ref,                   # file name of csv file containing reference data\n",
    "                                num_parameters=7,               # number of parameters to be interpolated\n",
    "                                data_type='D_Growth',           # type of observable to be emulated\n",
    "                                features_name='k_grid',         # name of the grid in the data frames\n",
    "                                features_to_Log=True,           # \n",
    "                                ratio_mode=False) \n",
    "emulation_data.read_csv_pandas()"
   ]
  },
  {
   "cell_type": "code",
   "execution_count": null,
   "metadata": {},
   "outputs": [],
   "source": [
    "emulation_data.calculate_ratio_by_redshifts(emulation_data.z_vals, normalize=True)"
   ]
  },
  {
   "cell_type": "code",
   "execution_count": 58,
   "metadata": {},
   "outputs": [],
   "source": [
    "n_train = 100                                                  # Number of training vectors without taking acount the extrema \n",
    "n_test = 2                                                     # Number of test vectors without taking acount the extrema\n",
    "n_splits = 1                                                   # Number of splits\n",
    "test_indices=[random.sample(range(1, 1000), n_test)]           # List of list -of test indices, one list per split\n",
    "\n",
    "z_list = list(np.loadtxt('../../input4cast/output/mg_camb_lhs_log10fR0/0000/z_values_list.txt'))      # list of available redshifts"
   ]
  },
  {
   "cell_type": "code",
   "execution_count": 59,
   "metadata": {},
   "outputs": [
    {
     "name": "stdout",
     "output_type": "stream",
     "text": [
      "('number of wanted training vectors', 100)\n",
      "('number of wanted test vectors', 2)\n",
      "('redshift used for training', array([0.  , 0.05, 0.1 , 0.15, 0.2 ]))\n",
      "('redshfit used for testing', array([0.  , 0.05, 0.1 , 0.15, 0.2 ]))\n"
     ]
    }
   ],
   "source": [
    "emulation_data.calculate_data_split(n_train=n_train,                            # Number of training vectors per redshift\n",
    "                                    n_test=n_test,                              # Number of test vectors per redsift\n",
    "                                    n_splits=n_splits,\n",
    "                                    verbosity=3,\n",
    "                                    manual_split=True,\n",
    "                                    test_indices=None,\n",
    "                                    train_redshift_indices=list(range(5)),      # Indices of the redshifts used for the train vect.\n",
    "                                    test_redshift_indices=list(range(5)))       # Indices of the redshifts used for the test vect."
   ]
  },
  {
   "cell_type": "code",
   "execution_count": 60,
   "metadata": {},
   "outputs": [],
   "source": [
    "npca = 7\n",
    "nparam = 8"
   ]
  },
  {
   "cell_type": "code",
   "execution_count": null,
   "metadata": {},
   "outputs": [],
   "source": [
    "ratios_predicted, emulation_data, intobj = dcl.Predict_ratio(emulation_data,Operator=\"PCA\",\n",
    "                                                             train_noise=1e-10,                     # Noise for the GP's kernel\n",
    "                                                             gp_n_rsts=40,                          # max times to restart the optimiser\n",
    "                                                             ncomp=npca,                            # Number of components\n",
    "                                                             gp_const=1,                            # Constant for the RBF kernel\n",
    "                                                             gp_length=np.ones(nparam) ,            # Length for GP \n",
    "                                                             interp_type='GP',                      # Kind of interpolator\n",
    "                                                             n_splits=n_splits,                     # Number of splits\n",
    "                                                             test_indices=test_indices,             # Indices of test vectors\n",
    "                                                             interp_dim=1,\n",
    "                                                             return_interpolator=True,\n",
    "                                                             pca_norm=True,\n",
    "                                                             train_redshift_indices=list(range(5)),\n",
    "                                                             test_redshift_indices=list(range(5))\n",
    "                                                             # min_k =1e-2,ma_k=10e1\n",
    "                                                             )"
   ]
  },
  {
   "cell_type": "code",
   "execution_count": null,
   "metadata": {},
   "outputs": [],
   "source": [
    "import pickle\n",
    "save_path = '../interpolators/class_Asw0wa_DP/'\n",
    "save_name = 'Pnonlin.sav'\n",
    "pickle.dump(intobj, open(save_path+save_name, 'wb'))"
   ]
  }
 ],
 "metadata": {
  "kernelspec": {
   "display_name": "lootiemu",
   "language": "python",
   "name": "python3"
  },
  "language_info": {
   "codemirror_mode": {
    "name": "ipython",
    "version": 3
   },
   "file_extension": ".py",
   "mimetype": "text/x-python",
   "name": "python",
   "nbconvert_exporter": "python",
   "pygments_lexer": "ipython3",
   "version": "3.11.3"
  },
  "orig_nbformat": 4
 },
 "nbformat": 4,
 "nbformat_minor": 2
}
