{
 "cells": [
  {
   "cell_type": "code",
   "execution_count": null,
   "metadata": {},
   "outputs": [],
   "source": [
    "from looti import cosmo_emulator as cem\n",
    "import matplotlib.pyplot as plt\n",
    "import pandas as pd\n",
    "import numpy as np\n",
    "import pickle"
   ]
  },
  {
   "cell_type": "markdown",
   "metadata": {},
   "source": [
    "Set all parameters for training"
   ]
  },
  {
   "cell_type": "code",
   "execution_count": null,
   "metadata": {},
   "outputs": [],
   "source": [
    "# path and file name of the training data set (pandas dataframe)\n",
    "data_path = '../training_data/'\n",
    "file_name = 'Plin_ellipse'\n",
    "\n",
    "# type of observable to be emulated\n",
    "cosmo_quantity = 'Plin'\n",
    "\n",
    "# number of varying parameters in data set\n",
    "n_params = 7\n",
    "\n",
    "# set size of training and test data set\n",
    "n_train = 300\n",
    "n_test = 10\n",
    "\n",
    "# choose if during training the logarithm of the grid and spectrum should be used\n",
    "features_to_Log = True\n",
    "observable_to_Log = True\n",
    "\n",
    "# choose number of PCA components\n",
    "n_pca = 8\n",
    "\n",
    "# option to have a seperate Gaussian process for each PCA component\n",
    "mult_gp = True"
   ]
  },
  {
   "cell_type": "markdown",
   "metadata": {},
   "source": [
    "Initialize Emulator"
   ]
  },
  {
   "cell_type": "code",
   "execution_count": null,
   "metadata": {},
   "outputs": [],
   "source": [
    "LootiEmu_pk = cem.CosmoEmulator()"
   ]
  },
  {
   "cell_type": "markdown",
   "metadata": {},
   "source": [
    "Read the pandas data frame, perform seperation into training and test sets, and normalize data"
   ]
  },
  {
   "cell_type": "code",
   "execution_count": null,
   "metadata": {},
   "outputs": [],
   "source": [
    "LootiEmu_pk.read_data(cosmo_quantity=cosmo_quantity, \n",
    "                      data_path=data_path, \n",
    "                      file_name=file_name, \n",
    "                      n_params=n_params, \n",
    "                      n_train=n_train, \n",
    "                      n_test=n_test,\n",
    "                      features_to_Log=features_to_Log,\n",
    "                      observable_to_Log=observable_to_Log)"
   ]
  },
  {
   "cell_type": "markdown",
   "metadata": {},
   "source": [
    "Training"
   ]
  },
  {
   "cell_type": "code",
   "execution_count": null,
   "metadata": {},
   "outputs": [],
   "source": [
    "LootiEmu_pk.create_intobj(cosmo_quantity=cosmo_quantity, n_params=n_params, mult_gp=mult_gp)"
   ]
  },
  {
   "cell_type": "markdown",
   "metadata": {},
   "source": [
    "Access the data and the trained emulator"
   ]
  },
  {
   "cell_type": "code",
   "execution_count": null,
   "metadata": {},
   "outputs": [],
   "source": [
    "emulation_data_pk = LootiEmu_pk.data[cosmo_quantity]\n",
    "intobj_pk = LootiEmu_pk.intobjs[cosmo_quantity]"
   ]
  },
  {
   "cell_type": "markdown",
   "metadata": {},
   "source": [
    "Check convergence by evaluating the emulator on the training dataset"
   ]
  },
  {
   "cell_type": "code",
   "execution_count": null,
   "metadata": {},
   "outputs": [],
   "source": [
    "# input parameters of training dataset\n",
    "xtrain = intobj_pk.trainspace_normed\n",
    "\n",
    "# target values of PCA components for the training dataset\n",
    "truth_normed_pcas_train = intobj_pk.representation\n",
    "\n",
    "if mult_gp == True:\n",
    "    # get predicted values of PCA components and uncertainty of the prediction from each GP\n",
    "    pred_temp = []\n",
    "    std_temp = []\n",
    "    for comp, gp in enumerate(intobj_pk.gp_dict.values()):\n",
    "        prediction_pca_train_temp, std_pca_train_temp = gp.predict(xtrain, return_std=True)\n",
    "        pred_temp.append(list(prediction_pca_train_temp))\n",
    "        std_temp.append(list(std_pca_train_temp))\n",
    "\n",
    "    # predicted values of PCA components for the training dataset\n",
    "    prediction_pca_train = np.array(pred_temp).T\n",
    "\n",
    "    # standard deviations of all predictions for the training dataset\n",
    "    std_pca_train = np.array(std_temp).T\n",
    "    \n",
    "else:\n",
    "    # get prediction of values for all PCA component from GP\n",
    "    prediction_pca_train, std_pca_train = intobj_pk.gp_regressor.predict(xtrain, return_std=True)"
   ]
  },
  {
   "cell_type": "markdown",
   "metadata": {},
   "source": [
    "Plot the residuals (target minus predicted values of PCA components) for a small subset of the training dataset"
   ]
  },
  {
   "cell_type": "code",
   "execution_count": null,
   "metadata": {},
   "outputs": [],
   "source": [
    "# looking at first 10 samples from training dataset\n",
    "n_plot_train = 10"
   ]
  },
  {
   "cell_type": "code",
   "execution_count": null,
   "metadata": {},
   "outputs": [],
   "source": [
    "pca_grid = np.linspace(1, n_plot_train, n_plot_train)\n",
    "fig, axs = plt.subplots(nrows=int(np.ceil(n_pca/2)), ncols=2)\n",
    "\n",
    "fig.suptitle('Residuals and Uncertainty of GP Predictions on Training Data Set')\n",
    "\n",
    "for comp in range(n_pca):\n",
    "    axs.ravel()[comp].errorbar(pca_grid, \n",
    "                 truth_normed_pcas_train[:n_plot_train][:,comp]-prediction_pca_train[:n_plot_train][:,comp], \n",
    "                 yerr=std_pca_train[:n_plot_train][:,comp], \n",
    "                 linestyle='', marker='.', color='cornflowerblue')\n",
    "    axs.ravel()[comp].hlines(0, 1, n_plot_train, color='firebrick', alpha=0.3)\n",
    "\n",
    "    axs.ravel()[comp].set_ylabel(\"Comp %i\" %(comp+1))\n",
    "    axs.ravel()[comp].set_xticks(list(range(1,n_plot_train+1)))\n",
    "    axs.ravel()[comp].set_xticklabels([])\n",
    "\n",
    "for i in range(2):\n",
    "    axs[-1, i].set_xlabel('Train data index')\n",
    "    axs[-1, i].set_xticks(list(range(1, n_plot_train+1)))\n",
    "    axs[-1, i].set_xticklabels(list(range(1, n_plot_train+1)))\n",
    "\n",
    "plt.tight_layout()\n",
    "plt.show()"
   ]
  },
  {
   "cell_type": "markdown",
   "metadata": {},
   "source": [
    "Evaluate the emulator on the test dataset"
   ]
  },
  {
   "cell_type": "code",
   "execution_count": null,
   "metadata": {},
   "outputs": [],
   "source": [
    "xtest = (emulation_data_pk.test_samples - intobj_pk.trainspace_mean) / intobj_pk.trainspace_std\n",
    "\n",
    "if mult_gp == True:\n",
    "    pred_temp = []\n",
    "    std_temp = []\n",
    "    for comp, gp in enumerate(intobj_pk.gp_dict.values()):\n",
    "        prediction_pca_test_temp, std_pca_test_temp = gp.predict(xtest, return_std=True)\n",
    "        pred_temp.append(list(prediction_pca_test_temp))\n",
    "        std_temp.append(list(std_pca_test_temp))\n",
    "        \n",
    "    prediction_pca_test = np.array(pred_temp).T\n",
    "    std_pca_test = np.array(std_temp).T\n",
    "    \n",
    "else:\n",
    "    prediction_pca_test, std_pca_test = intobj_pk.gp_regressor.predict(xtest, return_std=True)"
   ]
  },
  {
   "cell_type": "markdown",
   "metadata": {},
   "source": [
    "Perform PCA on the test data to get target values for all PCA components"
   ]
  },
  {
   "cell_type": "code",
   "execution_count": null,
   "metadata": {},
   "outputs": [],
   "source": [
    "nparam = emulation_data_pk.num_parameters + int(emulation_data_pk.multiple_z)\n",
    "if emulation_data_pk.multiple_z:\n",
    "    params = ['z']\n",
    "else:\n",
    "    params = []\n",
    "params += list(emulation_data_pk.paramnames_dict.values())\n",
    "\n",
    "truth_normed_pcas_list = []\n",
    "for ii in range(emulation_data_pk.test_samples.shape[0]):\n",
    "    indexvalues = emulation_data_pk.test_samples[ii]\n",
    "    index_list = emulation_data_pk.data_type, 0.0, params[0], indexvalues[0], params[1], indexvalues[1], params[2], indexvalues[2], params[3], indexvalues[3], params[4], indexvalues[4], params[5], indexvalues[5]\n",
    "\n",
    "    truth_spectrum_test = emulation_data_pk.df_ext.loc[index_list].values.flatten()\n",
    "    ref_spectrum = emulation_data_pk.df_ref.loc[emulation_data_pk.data_type, 0.0].values.flatten()\n",
    "\n",
    "    truth_spectrum_normed_test = ((truth_spectrum_test/ref_spectrum) - emulation_data_pk.binwise_mean) / emulation_data_pk.binwise_std\n",
    "    truth_pca_test_raw = intobj_pk.pca.transform([truth_spectrum_normed_test]).flatten()\n",
    "    truth_pca_test = (truth_pca_test_raw - intobj_pk.matPCA_mean) / intobj_pk.matPCA_std\n",
    "    truth_normed_pcas_list.append(truth_pca_test)\n",
    "\n",
    "truth_normed_pcas = np.array(truth_normed_pcas_list)"
   ]
  },
  {
   "cell_type": "markdown",
   "metadata": {},
   "source": [
    "Plot the residuals (target minus predicted values of PCA components) for the test dataset"
   ]
  },
  {
   "cell_type": "code",
   "execution_count": null,
   "metadata": {},
   "outputs": [],
   "source": [
    "n_test = len(emulation_data_pk.test_samples)\n",
    "pca_grid = np.linspace(1, n_test, n_test)\n",
    "fig, axs = plt.subplots(nrows=int(np.ceil(n_pca/2)), ncols=2)\n",
    "\n",
    "fig.suptitle('Residuals and Uncertainty of GP Predictions on Test Data Set')\n",
    "\n",
    "for comp in range(n_pca):\n",
    "    axs.ravel()[comp].errorbar(pca_grid, \n",
    "                 truth_normed_pcas[:,comp]-prediction_pca_test[:,comp], \n",
    "                 yerr=std_pca_test[:,comp], \n",
    "                 linestyle='', marker='.', color='cornflowerblue')\n",
    "    axs.ravel()[comp].hlines(0, 1, n_test, color='firebrick', alpha=0.3)\n",
    "\n",
    "    axs.ravel()[comp].set_ylabel(\"Comp %i\" %(comp+1))\n",
    "    axs.ravel()[comp].set_xticks(list(range(1,n_test+1)))\n",
    "    axs.ravel()[comp].set_xticklabels([])\n",
    "\n",
    "for i in range(2):\n",
    "    axs[-1, i].set_xlabel('Test data index')\n",
    "    axs[-1, i].set_xticks(list(range(1, n_test+1)))\n",
    "    axs[-1, i].set_xticklabels(list(range(1, n_test+1)))\n",
    "\n",
    "plt.tight_layout()\n",
    "plt.show()"
   ]
  },
  {
   "cell_type": "markdown",
   "metadata": {},
   "source": [
    "Plot the predicted vs. true spectra, and the residuals"
   ]
  },
  {
   "cell_type": "code",
   "execution_count": null,
   "metadata": {},
   "outputs": [],
   "source": [
    "colors = plt.cm.coolwarm(np.linspace(0, 1, len(emulation_data_pk.test_samples)))\n",
    "fig, ax =plt.subplots(3, figsize=(7, 6))\n",
    "fig.set_tight_layout(tight=True)\n",
    "\n",
    "# get a list of the varying parameters\n",
    "params_varying = list(LootiEmu_pk.get_params(cosmo_quantity=cosmo_quantity).keys())\n",
    "\n",
    "# get true target spectra of the test dataset\n",
    "test_indices = emulation_data_pk.test_splitdict[0]\n",
    "truth_spectrum = emulation_data_pk.df_ext.loc[cosmo_quantity].values[test_indices]\n",
    "\n",
    "for plot_index, color in enumerate(colors):\n",
    "    # create input dictionary with values of test sample for each parameter\n",
    "    input_values = emulation_data_pk.test_samples[plot_index]\n",
    "    input_dict_pk = dict()\n",
    "    for param, value in zip(params_varying, input_values):\n",
    "        input_dict_pk[param] = value\n",
    "\n",
    "    # get the grid and the predicted spectrum for the given input\n",
    "    grid_temp, pk_test = LootiEmu_pk.get_prediction(cosmo_quantity=cosmo_quantity, input_dict=input_dict_pk)\n",
    "\n",
    "    # transform grid in case it is given logarithmically\n",
    "    if features_to_Log==True:\n",
    "        grid = np.power(10, grid_temp)\n",
    "    else:\n",
    "        grid = grid_temp\n",
    "\n",
    "    # get the target spectra for current index in test dataset\n",
    "    pk_truth = truth_spectrum[plot_index]\n",
    "\n",
    "    # upper plot: target and predicted spectrum \n",
    "    ax[0].loglog(grid, pk_truth, c='cornflowerblue', label='truth')\n",
    "    ax[0].loglog(grid, pk_test, c='firebrick', linestyle='--', label='prediction')\n",
    "\n",
    "    # middle plot: relative residuals\n",
    "    residuals = 1 - pk_test / truth_spectrum[plot_index]\n",
    "    ax[1].semilogx(grid, residuals, color=color)\n",
    "\n",
    "    # lower plot: absolute residuals\n",
    "    residuals = pk_test - truth_spectrum[plot_index]\n",
    "    ax[2].semilogx(grid, residuals, color=color)\n",
    "\n",
    "# set lables and title\n",
    "ax[0].set_title('Prediction and Residuals for %i test samples' %(len(emulation_data_pk.test_samples)))\n",
    "ax[0].set_ylabel('Spectra')\n",
    "ax[0].set_xticklabels([])\n",
    "ax[1].set_ylabel('Relative Residuals')\n",
    "ax[1].set_xticklabels([])\n",
    "ax[2].set_xlabel(r'$k$')\n",
    "ax[2].set_ylabel('Residuals')\n",
    "\n",
    "plt.tight_layout()\n",
    "plt.show()"
   ]
  },
  {
   "cell_type": "markdown",
   "metadata": {},
   "source": [
    "Chose path and file name to save trained emulator and dataset"
   ]
  },
  {
   "cell_type": "code",
   "execution_count": null,
   "metadata": {},
   "outputs": [],
   "source": [
    "save_path = '../interpolators/'\n",
    "save_name = 'Plin_test'"
   ]
  },
  {
   "cell_type": "markdown",
   "metadata": {},
   "source": [
    "Save emulator and dataset"
   ]
  },
  {
   "cell_type": "code",
   "execution_count": null,
   "metadata": {},
   "outputs": [],
   "source": [
    "pickle.dump(emulation_data_pk, open(save_path+save_name+'_data.sav', 'wb'))\n",
    "pickle.dump(intobj_pk, open(save_path+save_name+'.sav', 'wb'))"
   ]
  }
 ],
 "metadata": {
  "kernelspec": {
   "display_name": "lootiemu",
   "language": "python",
   "name": "python3"
  },
  "language_info": {
   "codemirror_mode": {
    "name": "ipython",
    "version": 3
   },
   "file_extension": ".py",
   "mimetype": "text/x-python",
   "name": "python",
   "nbconvert_exporter": "python",
   "pygments_lexer": "ipython3",
   "version": "3.11.3"
  },
  "orig_nbformat": 4
 },
 "nbformat": 4,
 "nbformat_minor": 2
}
