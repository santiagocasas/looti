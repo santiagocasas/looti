{
 "cells": [
  {
   "cell_type": "code",
   "execution_count": null,
   "metadata": {},
   "outputs": [],
   "source": [
    "import os\n",
    "\n",
    "from looti import cobaya_theory as cem\n"
   ]
  },
  {
   "cell_type": "code",
   "execution_count": null,
   "metadata": {},
   "outputs": [],
   "source": [
    "\n",
    "looti_info = {\n",
    "    \"quantities\": \n",
    "        {'ttcl': {'data_path': '/home/guenther/software/projects/looti/looti/training_data/',\n",
    "                 'file_name': 'ttcl',\n",
    "                 'n_params': 6,\n",
    "                 'n_train': 100,\n",
    "                 'n_test': 10,}\n",
    "        },\n",
    "}"
   ]
  },
  {
   "cell_type": "code",
   "execution_count": null,
   "metadata": {},
   "outputs": [],
   "source": [
    "my_looti = cem.Looti_Cobaya()\n",
    "\n",
    "my_looti.set_args(looti_info)\n",
    "\n",
    "my_looti.initialize()\n"
   ]
  },
  {
   "cell_type": "code",
   "execution_count": null,
   "metadata": {},
   "outputs": [],
   "source": [
    "info = {\n",
    "    \"output\":os.path.expanduser(\"~/software/projects/looti/cobaya/chains_class_test_2/\"),\n",
    "    \"debug\":False,\n",
    "    \"test\":False,\n",
    "    \"stop_at_error\":False,\n",
    "    \"timing\":True,\n",
    "    \"resume\":False,\n",
    "    \"force\":True,\n",
    "    \"theory\": {\n",
    "        \"looti\": my_looti,\n",
    "        #\"classy\": {\n",
    "        #    \"extra_args\": {\n",
    "        #        # default CLASS settings:\n",
    "        #        \"output\": \"tCl\",\n",
    "        #        #\"non linear\": \"halofit\",\n",
    "        #        \"lensing\":\"yes\",\n",
    "        #        #\"compute damping scale\":\"yes\",\n",
    "        #        #'N_ncdm' : 1,\n",
    "        #        #'m_ncdm' : 0.06,\n",
    "        #        #'T_ncdm' : 0.71611,\n",
    "        #        #\"N_ur\": 3.048,\n",
    "        #    },\n",
    "    },\n",
    "    \"likelihood\": {\n",
    "        \"planck_2018_highl_plik.TT_lite\":{},\n",
    "        \"planck_2018_lowl.TT_clik\":{},\n",
    "        },\n",
    "    'params': {\n",
    "                'A_s': {'latex': 'A_\\\\mathrm{s}',\n",
    "                        'prior': {'max': 2.5971992e-09, 'min': 1.5834344e-09},\n",
    "                        'proposal': 1e-11,   \n",
    "                        'ref': {'dist': 'norm', 'loc': 2.10e-09, 'scale':  1e-11}\n",
    "                        },\n",
    "                'H0': {'latex': 'h',\n",
    "                    'prior': {'max': 71.46803999999999, 'min': 62.29012},\n",
    "                    'proposal': 1.0,     \n",
    "                    'ref': {'dist': 'norm', 'loc': 68.0, 'scale': 1.00}\n",
    "                    },\n",
    "                'clamp': {'derived': 'lambda A_s, tau_reio: '\n",
    "                                    '1e9*A_s*np.exp(-2*tau_reio)',\n",
    "                        'latex': '10^9 A_\\\\mathrm{s} e^{-2\\\\tau}'},\n",
    "                'n_s': {'latex': 'n_\\\\mathrm{s}',\n",
    "                        'prior': {'max': 0.96826922, 'min': 0.9341171},\n",
    "                        'proposal': 0.004,    \n",
    "                        'ref': {'dist': 'norm', 'loc': 0.965, 'scale': 0.004}\n",
    "                        },\n",
    "                'omega_b': {'latex': '\\\\Omega_\\\\mathrm{b} h^2',\n",
    "                            'prior': {'max': 0.02321978, 'min': 0.02102022},\n",
    "                            'proposal': 0.0002,\n",
    "                            'ref': {'dist': 'norm','loc': 0.02312,'scale': 0.0002}\n",
    "                            },\n",
    "                'omega_cdm': {'latex': '\\\\omega_\\\\mathrm{cdm} ',\n",
    "                            'prior': {'max': 0.1310936999999999, 'min': 0.1101105},\n",
    "                            'proposal': 0.003,\n",
    "                            'ref': {'dist': 'norm', 'loc': 0.120, 'scale': 0.003}\n",
    "                            },\n",
    "                'tau_reio': {'latex': '\\\\tau_\\\\mathrm{reio}',\n",
    "                            'prior': {'max': 0.09216, 'min': 0.01224},\n",
    "                            'proposal': 0.01,   #053075671\n",
    "                            'ref': {'dist': 'norm', 'loc': 0.058, 'scale': 0.01}\n",
    "                            },\n",
    "    },  \n",
    "    \"sampler\": { \n",
    "        \"mcmc\": {\n",
    "            \"drag\":False,\n",
    "            \"learn_proposal\": True,\n",
    "            \"oversample_power\": 0.4,\n",
    "            \"proposal_scale\":2.1,\n",
    "            \"Rminus1_stop\": 0.01,\n",
    "            \"max_tries\": 24000,\n",
    "            #\"covmat\": os.path.expanduser(\"~/software/projects/looti/cobaya/lcdm.covmat\"),\n",
    "            },\n",
    "        },\n",
    "    }\n"
   ]
  },
  {
   "cell_type": "code",
   "execution_count": null,
   "metadata": {},
   "outputs": [],
   "source": [
    "from cobaya.run import run\n",
    "\n",
    "updated_info, sampler = run(info)"
   ]
  }
 ],
 "metadata": {
  "kernelspec": {
   "display_name": "classnet",
   "language": "python",
   "name": "python3"
  },
  "language_info": {
   "name": "python",
   "version": "3.10.4"
  },
  "orig_nbformat": 4
 },
 "nbformat": 4,
 "nbformat_minor": 2
}
